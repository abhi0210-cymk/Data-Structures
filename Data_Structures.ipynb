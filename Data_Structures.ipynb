{
  "nbformat": 4,
  "nbformat_minor": 0,
  "metadata": {
    "colab": {
      "provenance": []
    },
    "kernelspec": {
      "name": "python3",
      "display_name": "Python 3"
    },
    "language_info": {
      "name": "python"
    }
  },
  "cells": [
    {
      "cell_type": "code",
      "execution_count": null,
      "metadata": {
        "id": "Glk4ms7BmNsH"
      },
      "outputs": [],
      "source": []
    },
    {
      "cell_type": "markdown",
      "source": [
        "#Data Structures\n",
        "\n"
      ],
      "metadata": {
        "id": "TR3DLMDhmefH"
      }
    },
    {
      "cell_type": "markdown",
      "source": [
        "1.What are data structures, and why are they important?\n",
        "\n",
        "  - Data structures are the building blocks of programming. They make it possible to store, organize, and process data efficiently, which is essential for solving complex problems and building reliable software.\n",
        "\n",
        "  Importance of Data Structures:-\n",
        "  . Help in efficient data storage and management\n",
        "  . Improve performance of operations like searching and sorting\n",
        "  . Optimize memory usage\n",
        "\n",
        "2.Explain the difference between mutable and immutable data types with       examples.\n",
        "\n",
        "  - Mutable Data Types can be changed or modified after creation whereas  immutable data types cannot be changed once created. Any modification creates  a new object.ble\n",
        " Example of Mutable:\n",
        "\n",
        " my_list = [1, 2, 3]\n",
        " my_list.append(4)  \n",
        " print(my_list)     \n",
        " Example of Immutable:\n",
        "\n",
        " my_str = \"Hello\"\n",
        " my_str = my_str + \" World\"\n",
        " print(my_str)  \n",
        "\n",
        "3.What are the main differences between lists and tuples in Python?\n",
        "\n",
        "  - A list is mutable, which means its elements can be changed, added, or removed after the list is created. Lists are defined using square brackets [ ]. Since they are flexible, lists are generally slower compared to tuples.\n",
        "\n",
        "   A tuple is immutable, which means once it is created, its elements cannot be modified, added, or deleted. Tuples are defined using parentheses ( ). Because of immutability, tuples are faster and are often used when the data should remain constant.\n",
        "\n",
        "4.Describe how dictionaries store data?\n",
        "\n",
        "  - In Python, a dictionary is a data structure that stores information in the form of key–value pairs. Unlike lists or tuples that use indexes, dictionaries use unique keys to access values. Each key in a dictionary is immutable, such as a string, number, or tuple, and it is always associated with a specific value. The values, on the other hand, can be of any data type and can even be duplicated.\n",
        "  Internally, Python dictionaries use a hashing mechanism to map each key to its corresponding value, which allows for very fast data retrieval. This means that when we provide a key, Python quickly calculates where the value is stored in memory and fetches it without searching through the entire dictionary.\n",
        "\n",
        "5.Why might you use a set instead of a list in Python?\n",
        "\n",
        "  - In Python, a set is an unordered collection of unique elements, while a list can contain duplicates and maintains order. We might use a set instead of a list when we want to store only unique items and do not care about the order of elements. Sets automatically remove duplicates, which makes them useful for tasks like filtering repeated values from a collection.\n",
        "\n",
        "6.What is a string in Python, and how is it different from a list?\n",
        "\n",
        "  - In Python, a string is a sequence of characters enclosed in single quotes, double quotes, or triple quotes (e.g., \"Hello\"). A string is immutable, meaning once it is created, it cannot be changed.\n",
        "\n",
        "  A list, on the other hand, is a collection of elements (which can be of different data types) enclosed in square brackets [ ]. Unlike strings, lists are mutable, so their elements can be modified, added, or removed.\n",
        "\n",
        "7.How do tuples ensure data integrity in Python?\n",
        "\n",
        "  - In Python, tuples ensure data integrity because they are immutable, meaning their elements cannot be changed, added, or removed after creation. Once a tuple is defined, its data remains constant throughout the program. This immutability prevents accidental modifications, making tuples reliable for storing fixed collections of data, such as coordinates, dates, or database records, where consistency is important.\n",
        "\n",
        "8.What is a hash table, and how does it relate to dictionaries in Python?\n",
        "\n",
        "  - A hash table is a data structure that stores data in key–value pairs and uses a hash function to compute an index for each key. This index decides where the corresponding value will be stored in memory. Because of hashing, hash tables allow very fast data access, insertion, and deletion.\n",
        "\n",
        "9.Can lists contain different data types in Python?\n",
        "\n",
        "  - In Python, a list can contain elements of different data types. Unlike arrays in some programming languages, Python lists are flexible and can store integers, floats, strings, booleans, or even other lists and objects together in a single list.\n",
        "\n",
        "10.Explain why strings are immutable in Python.\n",
        "\n",
        "   - In Python, strings are immutable, which means once a string is created, it cannot be changed. If you try to modify a string, Python actually creates a new string object instead of altering the original one.\n",
        "\n",
        "   The main reason for this immutability is that strings are widely used as keys in dictionaries and in many internal operations. If strings were mutable, their values could change after being used as keys, which would break the reliability of hash tables and make data handling inconsistent. Immutability also makes strings more memory-efficient and safer to use in multi-threaded environments, since their values cannot be accidentally modified by different parts of a program.\n",
        "\n",
        "11.What advantages do dictionaries offer over lists for certain tasks?\n",
        "\n",
        "   - Dictionaries in Python offer several advantages over lists for certain tasks. While lists store elements in a sequence and access them by index, dictionaries store data in key–value pairs, allowing for fast lookups using keys instead of searching through the entire collection. This makes dictionaries much more efficient when we need to quickly find, update, or delete a specific piece of information.\n",
        "\n",
        "12.Describe a scenario where using a tuple would be preferable over a list.\n",
        "\n",
        "   - A tuple is preferable over a list when you want to store a collection of values that should not change throughout the program. Since tuples are immutable, they help maintain data integrity by preventing accidental modifications.\n",
        "\n",
        "   A tuple is preferable over a list when we want to store a collection of values that should not change throughout the program. Since tuples are immutable, they help maintain data integrity by preventing accidental modifications.\n",
        "\n",
        "13.How do sets handle duplicate values in Python?\n",
        "\n",
        "   - In Python, a set automatically removes duplicate values because it is defined as an unordered collection of unique elements. When we try to add duplicate items to a set, Python ignores the duplicates and only keeps one copy of each value.\n",
        "\n",
        "14.How does the “in” keyword work differently for lists and dictionaries?  \n",
        "\n",
        "   - In Python, the in keyword is used to check membership, but it works differently for lists and dictionaries.\n",
        "\n",
        "   For a list, \"in\" checks whether a given element exists in the list by scanning through all the items.\n",
        "\n",
        "   For a dictionary, \"in\" only checks whether the given value exists as a key, not as a value.\n",
        "\n",
        "15.Can you modify the elements of a tuple? Explain why or why not.\n",
        "\n",
        "   - No, we cannot modify the elements of a tuple in Python. Tuples are immutable, which means that once a tuple is created, its elements cannot be changed, added, or removed. This immutability is what makes tuples useful for storing data that should remain constant, such as coordinates, dates, or fixed records.\n",
        "\n",
        "16.What is a nested dictionary, and give an example of its use case?\n",
        "\n",
        "   - A nested dictionary in Python is a dictionary that contains one or more dictionaries as its values. This allows you to store data in a hierarchical or structured way, making it useful for representing complex information.\n",
        "\n",
        "   For example, we could use a nested dictionary to store details of multiple students, where each student has their own dictionary of attributes like age, course, and grade.\n",
        "\n",
        "17.Describe the time complexity of accessing elements in a dictionary.\n",
        "\n",
        "   -In Python, accessing elements in a dictionary is generally very fast because dictionaries are implemented using hash tables. When we access a value using its key, Python applies a hash function to the key to find the exact memory location of the value. This makes the average time complexity of dictionary access O(1) (constant time), meaning it takes the same amount of time no matter how large the dictionary is.\n",
        "\n",
        "18.In what situations are lists preferred over dictionaries\n",
        "\n",
        "   -Lists are preferred over dictionaries in situations where the order of elements matters or when we only need to store a simple collection of items without associating them with keys. Since lists are indexed by position, they are ideal for tasks like maintaining sequences, iterating over elements in order, or when duplicates are allowed.\n",
        "\n",
        "19.Why are dictionaries considered unordered, and how does that affect data retrieval?\n",
        "\n",
        "- Dictionaries in Python are considered unordered because their elements are stored based on the hash values of keys, not in the order in which they are inserted (before Python 3.7). This means the data is arranged internally for fast lookups, not for maintaining sequence. From Python 3.7 onward, dictionaries preserve insertion order, but they are still conceptually treated as unordered because their main purpose is quick access through keys, not positional ordering.\n",
        "\n",
        " This affects data retrieval in that you cannot access values by index (like we do in lists). Instead, you must use the key to retrieve a value.\n",
        "\n",
        "20.Explain the difference between a list and a dictionary in terms of data retrieval.\n",
        "\n",
        "- The main difference between a list and a dictionary in terms of data retrieval lies in how their elements are accessed.\n",
        "\n",
        " In a list, data is retrieved using a numeric index that represents the position of the element. For example, my_list[0] retrieves the first element. This makes lists useful for ordered collections where position matters.\n",
        "\n",
        " In a dictionary, data is retrieved using a key instead of an index. Each key is unique and maps directly to a value, which allows for faster lookups. For example, my_dict[\"name\"] retrieves the value associated with the key \"name\"\n",
        "\n",
        "\n",
        "\n",
        "\n",
        "\n",
        "\n",
        "\n",
        "\n",
        "\n",
        "\n"
      ],
      "metadata": {
        "id": "8Q6FeihTmmzy"
      }
    },
    {
      "cell_type": "code",
      "source": [
        "# Creating a string with my name\n",
        "name = \"Abhijeet Bhattacharya\"\n",
        "\n",
        "# Printing the string\n",
        "print(name)"
      ],
      "metadata": {
        "colab": {
          "base_uri": "https://localhost:8080/"
        },
        "id": "v7OLJBqKDJPv",
        "outputId": "ab0cf36f-dfeb-4305-843e-18c1d6da3078"
      },
      "execution_count": 1,
      "outputs": [
        {
          "output_type": "stream",
          "name": "stdout",
          "text": [
            "Abhijeet Bhattacharya\n"
          ]
        }
      ]
    },
    {
      "cell_type": "code",
      "source": [
        "# String\n",
        "text = \"Hello World\"\n",
        "\n",
        "# Finding the length of the string\n",
        "length = len(text)\n",
        "\n",
        "# Printing the result\n",
        "print(\"Length of the string is:\", length)"
      ],
      "metadata": {
        "colab": {
          "base_uri": "https://localhost:8080/"
        },
        "id": "SJGsqBP9DcmZ",
        "outputId": "a4486db7-a714-4c13-d56d-f32dee799fab"
      },
      "execution_count": 2,
      "outputs": [
        {
          "output_type": "stream",
          "name": "stdout",
          "text": [
            "Length of the string is: 11\n"
          ]
        }
      ]
    },
    {
      "cell_type": "code",
      "source": [
        "# String\n",
        "text = \"Python Programming\"\n",
        "\n",
        "# Slicing the first 3 characters\n",
        "slice_text = text[:3]\n",
        "\n",
        "# Printing the result\n",
        "print(\"First 3 characters are:\", slice_text)"
      ],
      "metadata": {
        "colab": {
          "base_uri": "https://localhost:8080/"
        },
        "id": "rSdUkk7xDlyH",
        "outputId": "caed21db-3263-471e-aadd-371aae68e072"
      },
      "execution_count": 3,
      "outputs": [
        {
          "output_type": "stream",
          "name": "stdout",
          "text": [
            "First 3 characters are: Pyt\n"
          ]
        }
      ]
    },
    {
      "cell_type": "code",
      "source": [
        "# String\n",
        "text = \"hello\"\n",
        "\n",
        "# Converting to uppercase\n",
        "upper_text = text.upper()\n",
        "\n",
        "# Printing the result\n",
        "print(\"Uppercase string is:\", upper_text)"
      ],
      "metadata": {
        "colab": {
          "base_uri": "https://localhost:8080/"
        },
        "id": "F4ve_gKADwrJ",
        "outputId": "c07ed167-a05d-49df-aadb-92da3107ad70"
      },
      "execution_count": 4,
      "outputs": [
        {
          "output_type": "stream",
          "name": "stdout",
          "text": [
            "Uppercase string is: HELLO\n"
          ]
        }
      ]
    },
    {
      "cell_type": "code",
      "source": [
        "# String\n",
        "text = \"I like apple\"\n",
        "\n",
        "# Replacing 'apple' with 'orange'\n",
        "new_text = text.replace(\"apple\", \"orange\")\n",
        "\n",
        "# Printing the result\n",
        "print(new_text)"
      ],
      "metadata": {
        "colab": {
          "base_uri": "https://localhost:8080/"
        },
        "id": "pCpNs_pID7rN",
        "outputId": "fe4a82e1-d1ae-4d42-c17c-617c1efeb754"
      },
      "execution_count": 5,
      "outputs": [
        {
          "output_type": "stream",
          "name": "stdout",
          "text": [
            "I like orange\n"
          ]
        }
      ]
    },
    {
      "cell_type": "code",
      "source": [
        "# Creating a list with numbers 1 to 5\n",
        "numbers = [1, 2, 3, 4, 5]\n",
        "\n",
        "# Printing the list\n",
        "print(numbers)"
      ],
      "metadata": {
        "colab": {
          "base_uri": "https://localhost:8080/"
        },
        "id": "R4RDHsDeEJRN",
        "outputId": "59b0d54e-f605-465e-b386-6157f1491bb6"
      },
      "execution_count": 6,
      "outputs": [
        {
          "output_type": "stream",
          "name": "stdout",
          "text": [
            "[1, 2, 3, 4, 5]\n"
          ]
        }
      ]
    },
    {
      "cell_type": "code",
      "source": [
        "# Creating the list\n",
        "numbers = [1, 2, 3, 4]\n",
        "\n",
        "# Appending the number 10\n",
        "numbers.append(10)\n",
        "\n",
        "# Printing the updated list\n",
        "print(numbers)"
      ],
      "metadata": {
        "colab": {
          "base_uri": "https://localhost:8080/"
        },
        "id": "pT8S2K9kEQaX",
        "outputId": "022ad119-91c4-4716-f0d8-769c11bd2105"
      },
      "execution_count": 7,
      "outputs": [
        {
          "output_type": "stream",
          "name": "stdout",
          "text": [
            "[1, 2, 3, 4, 10]\n"
          ]
        }
      ]
    },
    {
      "cell_type": "code",
      "source": [
        "# Creating the list\n",
        "numbers = [1, 2, 3, 4, 5]\n",
        "\n",
        "# Removing the number 3\n",
        "numbers.remove(3)\n",
        "\n",
        "# Printing the updated list\n",
        "print(numbers)"
      ],
      "metadata": {
        "colab": {
          "base_uri": "https://localhost:8080/"
        },
        "id": "DLlATKeaEbNZ",
        "outputId": "3f7f9053-2724-42e3-ce98-effb7cdc1397"
      },
      "execution_count": 8,
      "outputs": [
        {
          "output_type": "stream",
          "name": "stdout",
          "text": [
            "[1, 2, 4, 5]\n"
          ]
        }
      ]
    },
    {
      "cell_type": "code",
      "source": [
        "# Creating the list\n",
        "letters = ['a', 'b', 'c', 'd']\n",
        "\n",
        "# Accessing the second element (index 1)\n",
        "second_element = letters[1]\n",
        "\n",
        "# Printing the result\n",
        "print(\"Second element is:\", second_element)"
      ],
      "metadata": {
        "colab": {
          "base_uri": "https://localhost:8080/"
        },
        "id": "7gCjpcKuEpY4",
        "outputId": "2c826d3b-bf72-4c54-f4d3-2cd992fdee53"
      },
      "execution_count": 9,
      "outputs": [
        {
          "output_type": "stream",
          "name": "stdout",
          "text": [
            "Second element is: b\n"
          ]
        }
      ]
    },
    {
      "cell_type": "code",
      "source": [
        "# Creating the list\n",
        "numbers = [10, 20, 30, 40, 50]\n",
        "\n",
        "# Reversing the list\n",
        "numbers.reverse()\n",
        "\n",
        "# Printing the reversed list\n",
        "print(numbers)"
      ],
      "metadata": {
        "colab": {
          "base_uri": "https://localhost:8080/"
        },
        "id": "1TLE3HJhErPh",
        "outputId": "d52b706f-fe5e-47bf-fe2f-bb86fc1a5d6d"
      },
      "execution_count": 10,
      "outputs": [
        {
          "output_type": "stream",
          "name": "stdout",
          "text": [
            "[50, 40, 30, 20, 10]\n"
          ]
        }
      ]
    },
    {
      "cell_type": "code",
      "source": [
        "# Creating a tuple\n",
        "my_tuple = (100, 200, 300)\n",
        "\n",
        "# Printing the tuple\n",
        "print(my_tuple)"
      ],
      "metadata": {
        "colab": {
          "base_uri": "https://localhost:8080/"
        },
        "id": "jGKwZMioFAZe",
        "outputId": "bc8f3c75-fe15-4b25-c80e-cfc739944f80"
      },
      "execution_count": 11,
      "outputs": [
        {
          "output_type": "stream",
          "name": "stdout",
          "text": [
            "(100, 200, 300)\n"
          ]
        }
      ]
    },
    {
      "cell_type": "code",
      "source": [
        "# Creating the tuple\n",
        "colors = ('red', 'green', 'blue', 'yellow')\n",
        "\n",
        "# Accessing the second-to-last element using negative indexing\n",
        "second_last = colors[-2]\n",
        "\n",
        "# Printing the result\n",
        "print(\"Second-to-last element is:\", second_last)"
      ],
      "metadata": {
        "colab": {
          "base_uri": "https://localhost:8080/"
        },
        "id": "ycN_n16MFDZv",
        "outputId": "c294ff60-c4c2-4200-fd4e-b3deb66c61ba"
      },
      "execution_count": 12,
      "outputs": [
        {
          "output_type": "stream",
          "name": "stdout",
          "text": [
            "Second-to-last element is: blue\n"
          ]
        }
      ]
    },
    {
      "cell_type": "code",
      "source": [
        "# Creating the tuple\n",
        "numbers = (10, 20, 5, 15)\n",
        "\n",
        "# Finding the minimum number\n",
        "minimum = min(numbers)\n",
        "\n",
        "# Printing the result\n",
        "print(\"Minimum number is:\", minimum)"
      ],
      "metadata": {
        "colab": {
          "base_uri": "https://localhost:8080/"
        },
        "id": "JD8GGGCbFO9s",
        "outputId": "910a2b94-10a6-46b9-b321-cc332169c45f"
      },
      "execution_count": 13,
      "outputs": [
        {
          "output_type": "stream",
          "name": "stdout",
          "text": [
            "Minimum number is: 5\n"
          ]
        }
      ]
    },
    {
      "cell_type": "code",
      "source": [
        "# Creating the tuple\n",
        "animals = ('dog', 'cat', 'rabbit')\n",
        "\n",
        "# Finding the index of \"cat\"\n",
        "index_cat = animals.index(\"cat\")\n",
        "\n",
        "# Printing the result\n",
        "print(\"Index of 'cat' is:\", index_cat)"
      ],
      "metadata": {
        "colab": {
          "base_uri": "https://localhost:8080/"
        },
        "id": "zje6rTQoFfN3",
        "outputId": "a50ee2b9-b495-491f-f411-3cb469cd48bf"
      },
      "execution_count": 14,
      "outputs": [
        {
          "output_type": "stream",
          "name": "stdout",
          "text": [
            "Index of 'cat' is: 1\n"
          ]
        }
      ]
    },
    {
      "cell_type": "code",
      "source": [
        "# Creating a tuple with three fruits\n",
        "fruits = (\"apple\", \"banana\", \"mango\")\n",
        "\n",
        "# Checking if \"kiwi\" is in the tuple\n",
        "if \"kiwi\" in fruits:\n",
        "    print(\"Kiwi is in the tuple\")\n",
        "else:\n",
        "    print(\"Kiwi is not in the tuple\")"
      ],
      "metadata": {
        "colab": {
          "base_uri": "https://localhost:8080/"
        },
        "id": "zCZIgskjFhKP",
        "outputId": "059e0e02-6beb-4936-cff0-f73a3eac2e36"
      },
      "execution_count": 15,
      "outputs": [
        {
          "output_type": "stream",
          "name": "stdout",
          "text": [
            "Kiwi is not in the tuple\n"
          ]
        }
      ]
    },
    {
      "cell_type": "code",
      "source": [
        "# Creating a set\n",
        "my_set = {'a', 'b', 'c'}\n",
        "\n",
        "# Printing the set\n",
        "print(my_set)"
      ],
      "metadata": {
        "colab": {
          "base_uri": "https://localhost:8080/"
        },
        "id": "JoBQCguKF32V",
        "outputId": "9e4dd340-1fef-43d0-fd11-e4677f80256d"
      },
      "execution_count": 16,
      "outputs": [
        {
          "output_type": "stream",
          "name": "stdout",
          "text": [
            "{'c', 'a', 'b'}\n"
          ]
        }
      ]
    },
    {
      "cell_type": "code",
      "source": [
        "# Creating the set\n",
        "numbers = {1, 2, 3, 4, 5}\n",
        "\n",
        "# Clearing all elements from the set\n",
        "numbers.clear()\n",
        "\n",
        "# Printing the set after clearing\n",
        "print(numbers)"
      ],
      "metadata": {
        "colab": {
          "base_uri": "https://localhost:8080/"
        },
        "id": "USOg57BeF5R_",
        "outputId": "75651dff-0924-4678-dcf0-4cf0069877f2"
      },
      "execution_count": 17,
      "outputs": [
        {
          "output_type": "stream",
          "name": "stdout",
          "text": [
            "set()\n"
          ]
        }
      ]
    },
    {
      "cell_type": "code",
      "source": [
        "# Creating the set\n",
        "numbers = {1, 2, 3, 4}\n",
        "\n",
        "# Removing the element 4\n",
        "numbers.remove(4)\n",
        "\n",
        "# Printing the updated set\n",
        "print(numbers)"
      ],
      "metadata": {
        "colab": {
          "base_uri": "https://localhost:8080/"
        },
        "id": "7945upw4GO7y",
        "outputId": "396846cc-622e-4ed3-e567-5479ae7ab7cb"
      },
      "execution_count": 18,
      "outputs": [
        {
          "output_type": "stream",
          "name": "stdout",
          "text": [
            "{1, 2, 3}\n"
          ]
        }
      ]
    },
    {
      "cell_type": "code",
      "source": [
        "# Creating two sets\n",
        "set1 = {1, 2, 3}\n",
        "set2 = {3, 4, 5}\n",
        "\n",
        "# Finding the union of the two sets\n",
        "union_set = set1.union(set2)\n",
        "\n",
        "# Printing the result\n",
        "print(union_set)"
      ],
      "metadata": {
        "colab": {
          "base_uri": "https://localhost:8080/"
        },
        "id": "UXcJzbtLGSQT",
        "outputId": "2cc74c21-1d66-4c6f-c36c-95a5bd6a84f3"
      },
      "execution_count": 19,
      "outputs": [
        {
          "output_type": "stream",
          "name": "stdout",
          "text": [
            "{1, 2, 3, 4, 5}\n"
          ]
        }
      ]
    },
    {
      "cell_type": "code",
      "source": [
        "# Creating two sets\n",
        "set1 = {1, 2, 3}\n",
        "set2 = {2, 3, 4}\n",
        "\n",
        "# Finding the intersection of the two sets\n",
        "intersection_set = set1.intersection(set2)\n",
        "\n",
        "# Printing the result\n",
        "print(intersection_set)"
      ],
      "metadata": {
        "colab": {
          "base_uri": "https://localhost:8080/"
        },
        "id": "S3zqJUuqGlap",
        "outputId": "43e0a73d-65b2-460d-b39c-9afa7787ddd4"
      },
      "execution_count": 20,
      "outputs": [
        {
          "output_type": "stream",
          "name": "stdout",
          "text": [
            "{2, 3}\n"
          ]
        }
      ]
    },
    {
      "cell_type": "code",
      "source": [
        "# Creating a dictionary\n",
        "person = {\n",
        "    \"name\": \"John\",\n",
        "    \"age\": 25,\n",
        "    \"city\": \"New York\"\n",
        "}\n",
        "\n",
        "# Printing the dictionary\n",
        "print(person)"
      ],
      "metadata": {
        "colab": {
          "base_uri": "https://localhost:8080/"
        },
        "id": "pXh0BSUgGoBR",
        "outputId": "3a0753bc-07a8-4c13-df21-554abf88513f"
      },
      "execution_count": 21,
      "outputs": [
        {
          "output_type": "stream",
          "name": "stdout",
          "text": [
            "{'name': 'John', 'age': 25, 'city': 'New York'}\n"
          ]
        }
      ]
    },
    {
      "cell_type": "code",
      "source": [
        "# Creating the dictionary\n",
        "person = {'name': 'John', 'age': 25}\n",
        "\n",
        "# Adding a new key-value pair\n",
        "person['country'] = 'USA'\n",
        "\n",
        "# Printing the updated dictionary\n",
        "print(person)"
      ],
      "metadata": {
        "colab": {
          "base_uri": "https://localhost:8080/"
        },
        "id": "Z82PcY96GzTn",
        "outputId": "9609206c-2834-47c8-ed9a-319f4916a7c2"
      },
      "execution_count": 22,
      "outputs": [
        {
          "output_type": "stream",
          "name": "stdout",
          "text": [
            "{'name': 'John', 'age': 25, 'country': 'USA'}\n"
          ]
        }
      ]
    },
    {
      "cell_type": "code",
      "source": [
        "# Creating the dictionary\n",
        "person = {'name': 'Alice', 'age': 30}\n",
        "\n",
        "# Accessing the value of key \"name\"\n",
        "print(person['name'])"
      ],
      "metadata": {
        "colab": {
          "base_uri": "https://localhost:8080/"
        },
        "id": "U76RDnjoHJwD",
        "outputId": "59f04b4f-fc19-4422-ebf5-7f4cb231f26a"
      },
      "execution_count": 23,
      "outputs": [
        {
          "output_type": "stream",
          "name": "stdout",
          "text": [
            "Alice\n"
          ]
        }
      ]
    },
    {
      "cell_type": "code",
      "source": [
        "# Creating the dictionary\n",
        "person = {'name': 'Bob', 'age': 22, 'city': 'New York'}\n",
        "\n",
        "# Removing the key \"age\"\n",
        "del person['age']\n",
        "\n",
        "# Printing the updated dictionary\n",
        "print(person)"
      ],
      "metadata": {
        "colab": {
          "base_uri": "https://localhost:8080/"
        },
        "id": "5_ePb9HtHMgf",
        "outputId": "31797ed4-c900-4d68-e6c0-97041f486cbb"
      },
      "execution_count": 24,
      "outputs": [
        {
          "output_type": "stream",
          "name": "stdout",
          "text": [
            "{'name': 'Bob', 'city': 'New York'}\n"
          ]
        }
      ]
    },
    {
      "cell_type": "code",
      "source": [
        "# Creating the dictionary\n",
        "person = {'name': 'Alice', 'city': 'Paris'}\n",
        "\n",
        "# Checking if \"city\" exists\n",
        "if \"city\" in person:\n",
        "    print(\"Key 'city' exists in the dictionary\")\n",
        "else:\n",
        "    print(\"Key 'city' does not exist in the dictionary\")"
      ],
      "metadata": {
        "colab": {
          "base_uri": "https://localhost:8080/"
        },
        "id": "6FMP4IkLHZJv",
        "outputId": "d9b286d0-d5b9-48e9-e26f-ecc8083c2b44"
      },
      "execution_count": 25,
      "outputs": [
        {
          "output_type": "stream",
          "name": "stdout",
          "text": [
            "Key 'city' exists in the dictionary\n"
          ]
        }
      ]
    },
    {
      "cell_type": "code",
      "source": [
        "# Creating a list\n",
        "my_list = [1, 2, 3, 4, 5]\n",
        "\n",
        "# Creating a tuple\n",
        "my_tuple = ('apple', 'banana', 'cherry')\n",
        "\n",
        "# Creating a dictionary\n",
        "my_dict = {'name': 'Alice', 'age': 25, 'city': 'Paris'}\n",
        "\n",
        "# Printing them all\n",
        "print(\"List:\", my_list)\n",
        "print(\"Tuple:\", my_tuple)\n",
        "print(\"Dictionary:\", my_dict)"
      ],
      "metadata": {
        "colab": {
          "base_uri": "https://localhost:8080/"
        },
        "id": "D7c6_4ZUHjU3",
        "outputId": "290ff218-e895-4a29-9641-7beeb45537b5"
      },
      "execution_count": 26,
      "outputs": [
        {
          "output_type": "stream",
          "name": "stdout",
          "text": [
            "List: [1, 2, 3, 4, 5]\n",
            "Tuple: ('apple', 'banana', 'cherry')\n",
            "Dictionary: {'name': 'Alice', 'age': 25, 'city': 'Paris'}\n"
          ]
        }
      ]
    },
    {
      "cell_type": "code",
      "source": [
        "import random\n",
        "\n",
        "# Create a list of 5 random numbers between 1 and 100\n",
        "numbers = [random.randint(1, 100) for _ in range(5)]\n",
        "\n",
        "# Sort the list in ascending order\n",
        "numbers.sort()\n",
        "\n",
        "# Print the result\n",
        "print(\"Sorted list:\", numbers)"
      ],
      "metadata": {
        "colab": {
          "base_uri": "https://localhost:8080/"
        },
        "id": "TI-PmywpHu5B",
        "outputId": "5d1206fa-fc2f-490c-a363-7fc79792e394"
      },
      "execution_count": 27,
      "outputs": [
        {
          "output_type": "stream",
          "name": "stdout",
          "text": [
            "Sorted list: [37, 44, 54, 59, 89]\n"
          ]
        }
      ]
    },
    {
      "cell_type": "code",
      "source": [
        "# Creating a list of strings\n",
        "fruits = [\"apple\", \"banana\", \"cherry\", \"date\", \"mango\"]\n",
        "\n",
        "# Accessing the element at the third index (index 3)\n",
        "element = fruits[3]\n",
        "\n",
        "# Printing the result\n",
        "print(\"Element at index 3 is:\", element)"
      ],
      "metadata": {
        "colab": {
          "base_uri": "https://localhost:8080/"
        },
        "id": "Q-JDfSKQH-oI",
        "outputId": "1cfa0a9a-2cba-4919-ecd8-c5399c07f24b"
      },
      "execution_count": 28,
      "outputs": [
        {
          "output_type": "stream",
          "name": "stdout",
          "text": [
            "Element at index 3 is: date\n"
          ]
        }
      ]
    },
    {
      "cell_type": "code",
      "source": [
        "# Creating two dictionaries\n",
        "dict1 = {'name': 'Alice', 'age': 25}\n",
        "dict2 = {'city': 'Paris', 'country': 'France'}\n",
        "\n",
        "# Combining the dictionaries\n",
        "combined_dict = {**dict1, **dict2}\n",
        "\n",
        "# Printing the result\n",
        "print(\"Combined dictionary:\", combined_dict)"
      ],
      "metadata": {
        "colab": {
          "base_uri": "https://localhost:8080/"
        },
        "id": "WQNckjeOIHlz",
        "outputId": "b408fb37-1352-4aec-bdca-a306972a02ef"
      },
      "execution_count": 29,
      "outputs": [
        {
          "output_type": "stream",
          "name": "stdout",
          "text": [
            "Combined dictionary: {'name': 'Alice', 'age': 25, 'city': 'Paris', 'country': 'France'}\n"
          ]
        }
      ]
    },
    {
      "cell_type": "code",
      "source": [
        "# Creating a list of strings\n",
        "fruits_list = [\"apple\", \"banana\", \"cherry\", \"apple\", \"banana\"]\n",
        "\n",
        "# Converting the list into a set\n",
        "fruits_set = set(fruits_list)\n",
        "\n",
        "# Printing the result\n",
        "print(\"Set:\", fruits_set)"
      ],
      "metadata": {
        "colab": {
          "base_uri": "https://localhost:8080/"
        },
        "id": "ELHuDWtcIT3B",
        "outputId": "0749ae8b-cb5c-464a-b50e-b3ffcbfc0347"
      },
      "execution_count": 30,
      "outputs": [
        {
          "output_type": "stream",
          "name": "stdout",
          "text": [
            "Set: {'apple', 'banana', 'cherry'}\n"
          ]
        }
      ]
    }
  ]
}